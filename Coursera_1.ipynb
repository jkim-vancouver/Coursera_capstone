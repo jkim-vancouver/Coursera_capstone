{
  "nbformat": 4,
  "nbformat_minor": 0,
  "metadata": {
    "colab": {
      "name": "Coursera_1.ipynb",
      "provenance": []
    },
    "kernelspec": {
      "name": "python3",
      "display_name": "Python 3"
    }
  },
  "cells": [
    {
      "cell_type": "markdown",
      "metadata": {
        "id": "6dLI7cywO5lw",
        "colab_type": "text"
      },
      "source": [
        "NOTEBOOK STARTS HERE"
      ]
    },
    {
      "cell_type": "code",
      "metadata": {
        "id": "lAiuPVR8Os_Y",
        "colab_type": "code",
        "colab": {}
      },
      "source": [
        "import numpy as np\n",
        "import pandas as pd"
      ],
      "execution_count": 0,
      "outputs": []
    },
    {
      "cell_type": "code",
      "metadata": {
        "id": "Dn7KogReOzl1",
        "colab_type": "code",
        "colab": {}
      },
      "source": [
        "print (\"Hello Capstone Project Course!\")"
      ],
      "execution_count": 0,
      "outputs": []
    }
  ]
}